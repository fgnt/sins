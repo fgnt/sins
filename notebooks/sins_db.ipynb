{
 "cells": [
  {
   "cell_type": "code",
   "execution_count": null,
   "metadata": {},
   "outputs": [],
   "source": [
    "%matplotlib inline\n",
    "%reload_ext autoreload\n",
    "%autoreload 2"
   ]
  },
  {
   "cell_type": "code",
   "execution_count": null,
   "metadata": {},
   "outputs": [],
   "source": [
    "import IPython.display as ipd\n",
    "import matplotlib.pyplot as plt"
   ]
  },
  {
   "cell_type": "code",
   "execution_count": null,
   "metadata": {},
   "outputs": [],
   "source": [
    "from sins.database.database import SINS, AudioReader\n",
    "from sins.database.utils import prepare_sessions\n",
    "from collections import defaultdict\n",
    "from pprint import pprint"
   ]
  },
  {
   "cell_type": "markdown",
   "metadata": {},
   "source": [
    "## Get database instance"
   ]
  },
  {
   "cell_type": "code",
   "execution_count": null,
   "metadata": {},
   "outputs": [],
   "source": [
    "db = SINS()"
   ]
  },
  {
   "cell_type": "markdown",
   "metadata": {},
   "source": [
    "## Annotations"
   ]
  },
  {
   "cell_type": "code",
   "execution_count": null,
   "metadata": {},
   "outputs": [],
   "source": [
    "db.sessions"
   ]
  },
  {
   "cell_type": "code",
   "execution_count": null,
   "metadata": {},
   "outputs": [],
   "source": [
    "sessions = prepare_sessions(\n",
    "    db.sessions, room='living', include_absence=True, discard_other_rooms=False, discard_ambiguities=False\n",
    ")\n",
    "sessions"
   ]
  },
  {
   "cell_type": "code",
   "execution_count": null,
   "metadata": {},
   "outputs": [],
   "source": [
    "presence = prepare_sessions(\n",
    "    db.sessions, room='living', include_absence=True,\n",
    "    discard_other_rooms=True, discard_ambiguities=False,\n",
    "    label_map_fn=lambda label: (False if label == \"absence\" else True)\n",
    ")\n",
    "presence"
   ]
  },
  {
   "cell_type": "markdown",
   "metadata": {},
   "source": [
    "#### Proposed train-/validate-/evaluate-sections"
   ]
  },
  {
   "cell_type": "code",
   "execution_count": null,
   "metadata": {},
   "outputs": [],
   "source": [
    "db.train_ranges, db.validate_ranges, db.eval_ranges"
   ]
  },
  {
   "cell_type": "markdown",
   "metadata": {},
   "source": [
    "## Get lazy_dataset providing fix length (except for the last) segments"
   ]
  },
  {
   "cell_type": "code",
   "execution_count": null,
   "metadata": {},
   "outputs": [],
   "source": [
    "segment_dataset = db.get_segments(\n",
    "    \"Node6\", max_segment_length=60., time_ranges=db.train_ranges, annotations={\"scene\": db.sessions}\n",
    ")"
   ]
  },
  {
   "cell_type": "code",
   "execution_count": null,
   "metadata": {},
   "outputs": [],
   "source": [
    "segment_dataset[110], segment_dataset[111]"
   ]
  },
  {
   "cell_type": "code",
   "execution_count": null,
   "metadata": {},
   "outputs": [],
   "source": [
    "segment_dataset[991], segment_dataset[992], segment_dataset[993]"
   ]
  },
  {
   "cell_type": "markdown",
   "metadata": {},
   "source": [
    "## Get lazy_dataset providing single session segments"
   ]
  },
  {
   "cell_type": "code",
   "execution_count": null,
   "metadata": {},
   "outputs": [],
   "source": [
    "session_dataset = db.get_segments(\n",
    "    \"Node1\", max_segment_length=60., time_ranges=db.train_ranges, sessions=sessions\n",
    ")"
   ]
  },
  {
   "cell_type": "code",
   "execution_count": null,
   "metadata": {},
   "outputs": [],
   "source": [
    "session_dataset[110], session_dataset[111]"
   ]
  },
  {
   "cell_type": "code",
   "execution_count": null,
   "metadata": {},
   "outputs": [],
   "source": [
    "session_dataset[1018], session_dataset[1019], session_dataset[1020]"
   ]
  },
  {
   "cell_type": "markdown",
   "metadata": {},
   "source": [
    "## Get parallel data\n",
    "If you call the ```get_segments``` the same segments will be returned for all datasets."
   ]
  },
  {
   "cell_type": "code",
   "execution_count": null,
   "metadata": {},
   "outputs": [],
   "source": [
    "nodes = db.room_to_nodes['living']  # list(db.node_to_room.keys())\n",
    "parallel_datasets = db.get_segments(\n",
    "    nodes, max_segment_length=60., time_ranges=db.train_ranges, sessions=sessions\n",
    ")\n",
    "audio_datasets = [ds.map(AudioReader()) for ds in parallel_datasets]"
   ]
  },
  {
   "cell_type": "code",
   "execution_count": null,
   "metadata": {},
   "outputs": [],
   "source": [
    "example_idx = 1249\n",
    "for ds in audio_datasets:\n",
    "    ipd.display(ipd.Audio(ds[example_idx]['audio_data'][0], rate=16000))"
   ]
  },
  {
   "cell_type": "code",
   "execution_count": null,
   "metadata": {},
   "outputs": [],
   "source": [
    "plt.plot(audio_datasets[0][example_idx]['audio_data'][0,:])"
   ]
  },
  {
   "cell_type": "markdown",
   "metadata": {},
   "source": [
    "## Feature Extraction"
   ]
  },
  {
   "cell_type": "code",
   "execution_count": null,
   "metadata": {},
   "outputs": [],
   "source": [
    "from sins.features.stft import STFT\n",
    "from sins.features.mel_transform import MelTransform\n",
    "from sins.features.normalize import Normalizer\n",
    "import numpy as np"
   ]
  },
  {
   "cell_type": "code",
   "execution_count": null,
   "metadata": {},
   "outputs": [],
   "source": [
    "def plot_spec(x):\n",
    "    plt.imshow(x.T, interpolation='nearest', aspect='auto', origin=\"lower\")"
   ]
  },
  {
   "cell_type": "code",
   "execution_count": null,
   "metadata": {},
   "outputs": [],
   "source": [
    "mbe_datasets = [ds.map(STFT(320, 1024)).map(MelTransform(16000, 1024, 80, 200)) for ds in audio_datasets]"
   ]
  },
  {
   "cell_type": "code",
   "execution_count": null,
   "metadata": {},
   "outputs": [],
   "source": [
    "idx = 2500\n",
    "for ds in mbe_datasets:\n",
    "    example = ds[idx]\n",
    "    mbe = example[\"mel_transform\"][0, -100:]\n",
    "    plot_spec(mbe)\n",
    "    plt.show()"
   ]
  },
  {
   "cell_type": "code",
   "execution_count": null,
   "metadata": {},
   "outputs": [],
   "source": [
    "normalizers = [\n",
    "    Normalizer(\"mel_transform\", (0, 1), (0, 1, 2), name=f\"Node{i+1}\") for i in range(len(mbe_datasets))\n",
    "]\n",
    "for i in range(len(mbe_datasets)):\n",
    "    normalizers[i].initialize_moments(mbe_datasets[i].shuffle()[:300].prefetch(8, 100), verbose=True)\n",
    "    mbe_datasets[i] = mbe_datasets[i].map(normalizers[i])"
   ]
  },
  {
   "cell_type": "code",
   "execution_count": null,
   "metadata": {},
   "outputs": [],
   "source": []
  }
 ],
 "metadata": {
  "kernelspec": {
   "display_name": "sins",
   "language": "python",
   "name": "sins"
  },
  "language_info": {
   "codemirror_mode": {
    "name": "ipython",
    "version": 3
   },
   "file_extension": ".py",
   "mimetype": "text/x-python",
   "name": "python",
   "nbconvert_exporter": "python",
   "pygments_lexer": "ipython3",
   "version": "3.6.8"
  }
 },
 "nbformat": 4,
 "nbformat_minor": 2
}
